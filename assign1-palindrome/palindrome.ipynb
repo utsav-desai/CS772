{
 "cells": [
  {
   "cell_type": "markdown",
   "metadata": {},
   "source": [
    "## Import Libraries"
   ]
  },
  {
   "cell_type": "code",
   "execution_count": 1,
   "metadata": {},
   "outputs": [],
   "source": [
    "import numpy as np\n",
    "import pandas as pd\n",
    "import matplotlib.pyplot as plt\n",
    "from sklearn.model_selection import train_test_split\n",
    "# from faker import Faker\n",
    "import random\n",
    "np.random.seed()\n",
    "import warnings\n",
    "warnings.filterwarnings(\"ignore\")"
   ]
  },
  {
   "cell_type": "markdown",
   "metadata": {},
   "source": [
    "## Create Dataset"
   ]
  },
  {
   "cell_type": "code",
   "execution_count": 2,
   "metadata": {},
   "outputs": [],
   "source": [
    "x = []\n",
    "palindromes = []\n",
    "for i in range(1024):\n",
    "    binary_string = format(i, '010b')\n",
    "    x.append(binary_string)\n",
    "    if binary_string == binary_string[::-1]:\n",
    "        palindromes.append(binary_string)\n",
    "x = np.array(x)\n",
    "palindromes = np.array(palindromes)\n"
   ]
  },
  {
   "cell_type": "code",
   "execution_count": 3,
   "metadata": {},
   "outputs": [
    {
     "name": "stdout",
     "output_type": "stream",
     "text": [
      "32\n"
     ]
    },
    {
     "data": {
      "text/plain": [
       "array(['0000000000', '0000110000', '0001001000', '0001111000',\n",
       "       '0010000100', '0010110100', '0011001100', '0011111100',\n",
       "       '0100000010', '0100110010', '0101001010', '0101111010',\n",
       "       '0110000110', '0110110110', '0111001110', '0111111110',\n",
       "       '1000000001', '1000110001', '1001001001', '1001111001',\n",
       "       '1010000101', '1010110101', '1011001101', '1011111101',\n",
       "       '1100000011', '1100110011', '1101001011', '1101111011',\n",
       "       '1110000111', '1110110111', '1111001111', '1111111111'],\n",
       "      dtype='<U10')"
      ]
     },
     "execution_count": 3,
     "metadata": {},
     "output_type": "execute_result"
    }
   ],
   "source": [
    "print(len(palindromes))\n",
    "palindromes"
   ]
  },
  {
   "cell_type": "code",
   "execution_count": 4,
   "metadata": {},
   "outputs": [
    {
     "name": "stdout",
     "output_type": "stream",
     "text": [
      "32\n"
     ]
    },
    {
     "data": {
      "text/plain": [
       "array(['1010000101', '0000110000', '1011001101', '1011111101',\n",
       "       '0011111100', '0100000010', '1110110111', '1010110101',\n",
       "       '1111111111', '1100110011', '0000000000', '1101001011',\n",
       "       '0010000100', '0110000110', '1100000011', '1001111001',\n",
       "       '1110000111', '0110110110', '0010110100', '0001001000',\n",
       "       '1111001111', '0001111000', '1000110001', '0101111010',\n",
       "       '0111001110', '0101001010', '1000000001', '1001001001',\n",
       "       '1101111011', '0011001100', '0111111110', '0100110010'],\n",
       "      dtype='<U10')"
      ]
     },
     "execution_count": 4,
     "metadata": {},
     "output_type": "execute_result"
    }
   ],
   "source": [
    "np.random.shuffle(palindromes)\n",
    "print(len(palindromes))\n",
    "palindromes"
   ]
  },
  {
   "cell_type": "code",
   "execution_count": 5,
   "metadata": {},
   "outputs": [
    {
     "name": "stdout",
     "output_type": "stream",
     "text": [
      "1184\n"
     ]
    }
   ],
   "source": [
    "for i in range(5):\n",
    "    x = np.concatenate((x, palindromes))\n",
    "print(len(x))"
   ]
  },
  {
   "cell_type": "code",
   "execution_count": 6,
   "metadata": {},
   "outputs": [],
   "source": [
    "y = []\n",
    "for binary_string in x:\n",
    "    y.append(binary_string == binary_string[::-1])\n",
    "y = np.array(y)\n",
    "permutation_index = np.random.permutation(len(x))\n",
    "x = x[permutation_index]\n",
    "y = y[permutation_index]\n",
    "\n",
    "x_train, x_test, y_train, y_test = train_test_split(x, y, test_size=0.2, random_state=42)"
   ]
  },
  {
   "cell_type": "code",
   "execution_count": 7,
   "metadata": {},
   "outputs": [],
   "source": [
    "def sigmoid(x):\n",
    "    return 1 / (1 + np.exp(-1 * x))\n",
    "\n",
    "def relu(x):\n",
    "    return np.maximum(0, x)"
   ]
  },
  {
   "cell_type": "code",
   "execution_count": 8,
   "metadata": {},
   "outputs": [],
   "source": [
    "# a = np.array([1, 2, -3])\n",
    "# b = np.array([2, 3, 4])\n",
    "# a*b"
   ]
  },
  {
   "cell_type": "markdown",
   "metadata": {},
   "source": [
    "# With Batches"
   ]
  },
  {
   "cell_type": "code",
   "execution_count": 71,
   "metadata": {},
   "outputs": [],
   "source": [
    "np.random.seed(28)\n",
    "LEARNING_RATE = 1e-3\n",
    "NUM_EPOCHS = 10000\n",
    "\n",
    "input_size = 10\n",
    "hidden_layer_size = 4\n",
    "output_size = 1\n",
    "\n",
    "weights_ih = np.load('weights/weights_ih2.npy')\n",
    "weights_ih = np.random.rand(input_size, hidden_layer_size)\n",
    "weights_ho = np.random.rand(hidden_layer_size, output_size)\n",
    "bias_ih = np.load('weights/bias_ih2.npy')\n",
    "bias_ih = np.random.rand(1, hidden_layer_size)\n",
    "bias_ho = np.random.rand(1, output_size)"
   ]
  },
  {
   "cell_type": "code",
   "execution_count": 72,
   "metadata": {},
   "outputs": [],
   "source": [
    "min_loss = 500"
   ]
  },
  {
   "cell_type": "code",
   "execution_count": 73,
   "metadata": {},
   "outputs": [],
   "source": [
    "# weights_ih = np.load('weights_ih2.npy')\n",
    "# weights_ho = np.load('weights_ho2.npy')\n",
    "# bias_ih = np.load('bias_ih2.npy')\n",
    "# bias_ho = np.load('bias_ho2.npy')\n",
    "# weights_ih = weights_ih[:, [1, 3]]\n",
    "# bias_ih = bias_ih[:, [1, 3]]\n",
    "# weights_ho = weights_ho[[1, 3]]"
   ]
  },
  {
   "cell_type": "code",
   "execution_count": 77,
   "metadata": {},
   "outputs": [
    {
     "name": "stdout",
     "output_type": "stream",
     "text": [
      "Epoch 0 : loss [13.38570779]\n",
      "Epoch 1 : loss [10.5626755]\n",
      "Epoch 2 : loss [9.55585099]\n",
      "Epoch 3 : loss [8.96865754]\n",
      "Epoch 4 : loss [8.5515804]\n",
      "Epoch 5 : loss [8.22466269]\n",
      "Epoch 6 : loss [7.95342465]\n",
      "Epoch 7 : loss [7.72098499]\n",
      "Epoch 8 : loss [7.51810823]\n",
      "Epoch 9 : loss [7.33898701]\n",
      "Epoch 10 : loss [7.17952584]\n",
      "Epoch 11 : loss [7.03659722]\n",
      "Epoch 12 : loss [6.90769573]\n",
      "Epoch 13 : loss [6.79076505]\n",
      "Epoch 14 : loss [6.68410079]\n",
      "Epoch 15 : loss [6.58628659]\n",
      "Epoch 16 : loss [6.49614549]\n",
      "Epoch 17 : loss [6.41269961]\n",
      "Epoch 18 : loss [6.33513567]\n",
      "Epoch 19 : loss [6.26277548]\n",
      "Epoch 20 : loss [6.19505111]\n",
      "Epoch 21 : loss [6.13148422]\n",
      "Epoch 22 : loss [6.07166919]\n",
      "Epoch 23 : loss [6.01525946]\n",
      "Epoch 24 : loss [5.9619566]\n",
      "Epoch 25 : loss [5.91150157]\n",
      "Epoch 26 : loss [5.86366772]\n",
      "Epoch 27 : loss [5.81825526]\n",
      "Epoch 28 : loss [5.77508684]\n",
      "Epoch 29 : loss [5.73400394]\n",
      "Epoch 30 : loss [5.69486403]\n",
      "Epoch 31 : loss [5.65753827]\n",
      "Epoch 32 : loss [5.62190956]\n",
      "Epoch 33 : loss [5.58787104]\n",
      "Epoch 34 : loss [5.55532477]\n",
      "Epoch 35 : loss [5.52418068]\n",
      "Epoch 36 : loss [5.49435566]\n",
      "Epoch 37 : loss [5.46577285]\n",
      "Epoch 38 : loss [5.43836093]\n",
      "Epoch 39 : loss [5.41205366]\n",
      "Epoch 40 : loss [5.38678931]\n",
      "Epoch 41 : loss [5.36251035]\n",
      "Epoch 42 : loss [5.33916301]\n",
      "Epoch 43 : loss [5.31669702]\n",
      "Epoch 44 : loss [5.2950653]\n",
      "Epoch 45 : loss [5.27422373]\n",
      "Epoch 46 : loss [5.25413091]\n",
      "Epoch 47 : loss [5.23474798]\n",
      "Epoch 48 : loss [5.21603842]\n",
      "Epoch 49 : loss [5.1979679]\n",
      "Epoch 50 : loss [5.19914819]\n",
      "Epoch 51 : loss [5.17991684]\n",
      "Epoch 52 : loss [5.16139148]\n",
      "Epoch 53 : loss [5.14342225]\n",
      "Epoch 54 : loss [5.1260222]\n",
      "Epoch 55 : loss [5.1091825]\n",
      "Epoch 56 : loss [5.09288658]\n",
      "Epoch 57 : loss [5.07711413]\n",
      "Epoch 58 : loss [5.06184308]\n",
      "Epoch 59 : loss [5.04705084]\n",
      "Epoch 60 : loss [5.03271494]\n",
      "Epoch 61 : loss [5.01881349]\n",
      "Epoch 62 : loss [5.0053254]\n",
      "Epoch 63 : loss [4.99223051]\n",
      "Epoch 64 : loss [4.9795096]\n",
      "Epoch 65 : loss [4.96714444]\n",
      "Epoch 66 : loss [4.95511777]\n",
      "Epoch 67 : loss [4.94341323]\n",
      "Epoch 68 : loss [4.93201537]\n",
      "Epoch 69 : loss [4.9209096]\n",
      "Epoch 70 : loss [4.91008211]\n",
      "Epoch 71 : loss [4.89951988]\n",
      "Epoch 72 : loss [4.88921062]\n",
      "Epoch 73 : loss [4.87914269]\n",
      "Epoch 74 : loss [4.86930512]\n",
      "Epoch 75 : loss [4.85968756]\n",
      "Epoch 76 : loss [4.85028021]\n",
      "Epoch 77 : loss [4.84107382]\n",
      "Epoch 78 : loss [4.83205967]\n",
      "Epoch 79 : loss [4.82322948]\n",
      "Epoch 80 : loss [4.81457547]\n",
      "Epoch 81 : loss [4.80609026]\n",
      "Epoch 82 : loss [4.79776688]\n",
      "Epoch 83 : loss [4.78959874]\n",
      "Epoch 84 : loss [4.78157961]\n",
      "Epoch 85 : loss [4.77370359]\n",
      "Epoch 86 : loss [4.76596511]\n",
      "Epoch 87 : loss [4.7583589]\n",
      "Epoch 88 : loss [4.75087996]\n",
      "Epoch 89 : loss [4.74352356]\n",
      "Epoch 90 : loss [4.73628524]\n",
      "Epoch 91 : loss [4.72916075]\n",
      "Epoch 92 : loss [4.72214608]\n",
      "Epoch 93 : loss [4.71523743]\n",
      "Epoch 94 : loss [4.70843118]\n",
      "Epoch 95 : loss [4.70172392]\n",
      "Epoch 96 : loss [4.69511241]\n",
      "Epoch 97 : loss [4.68859356]\n",
      "Epoch 98 : loss [4.68216446]\n",
      "Epoch 99 : loss [4.67582233]\n",
      "Epoch 100 : loss [4.68547459]\n",
      "Epoch 101 : loss [4.67825117]\n",
      "Epoch 102 : loss [4.67139129]\n",
      "Epoch 103 : loss [4.66455718]\n",
      "Epoch 104 : loss [4.65777503]\n",
      "Epoch 105 : loss [4.65105812]\n",
      "Epoch 106 : loss [4.6444138]\n",
      "Epoch 107 : loss [4.63784603]\n",
      "Epoch 108 : loss [4.63135663]\n",
      "Epoch 109 : loss [4.62494611]\n",
      "Epoch 110 : loss [4.6186141]\n",
      "Epoch 111 : loss [4.61235974]\n",
      "Epoch 112 : loss [4.60618186]\n",
      "Epoch 113 : loss [4.60007911]\n",
      "Epoch 114 : loss [4.59405004]\n",
      "Epoch 115 : loss [4.58809317]\n",
      "Epoch 116 : loss [4.58220702]\n",
      "Epoch 117 : loss [4.57639009]\n",
      "Epoch 118 : loss [4.57064093]\n",
      "Epoch 119 : loss [4.56495815]\n",
      "Epoch 120 : loss [4.55934034]\n",
      "Epoch 121 : loss [4.55378618]\n",
      "Epoch 122 : loss [4.54829438]\n",
      "Epoch 123 : loss [4.54286367]\n",
      "Epoch 124 : loss [4.53749285]\n",
      "Epoch 125 : loss [4.53218073]\n",
      "Epoch 126 : loss [4.52692619]\n",
      "Epoch 127 : loss [4.52172812]\n",
      "Epoch 128 : loss [4.51658547]\n",
      "Epoch 129 : loss [4.51149719]\n",
      "Epoch 130 : loss [4.5064623]\n",
      "Epoch 131 : loss [4.50147983]\n",
      "Epoch 132 : loss [4.49654883]\n",
      "Epoch 133 : loss [4.4916684]\n",
      "Epoch 134 : loss [4.48683766]\n",
      "Epoch 135 : loss [4.48205575]\n",
      "Epoch 136 : loss [4.47732183]\n",
      "Epoch 137 : loss [4.4726351]\n",
      "Epoch 138 : loss [4.46799478]\n",
      "Epoch 139 : loss [4.46340008]\n",
      "Epoch 140 : loss [4.45885027]\n",
      "Epoch 141 : loss [4.45434462]\n",
      "Epoch 142 : loss [4.44988243]\n",
      "Epoch 143 : loss [4.44546299]\n",
      "Epoch 144 : loss [4.44108565]\n",
      "Epoch 145 : loss [4.43674973]\n",
      "Epoch 146 : loss [4.4324546]\n",
      "Epoch 147 : loss [4.42819963]\n",
      "Epoch 148 : loss [4.42398421]\n",
      "Epoch 149 : loss [4.41980775]\n",
      "Epoch 150 : loss [4.43128783]\n",
      "Epoch 151 : loss [4.42648]\n",
      "Epoch 152 : loss [4.42199614]\n",
      "Epoch 153 : loss [4.4174749]\n",
      "Epoch 154 : loss [4.41294944]\n",
      "Epoch 155 : loss [4.40843819]\n",
      "Epoch 156 : loss [4.40395216]\n",
      "Epoch 157 : loss [4.399498]\n",
      "Epoch 158 : loss [4.39507964]\n",
      "Epoch 159 : loss [4.39069936]\n",
      "Epoch 160 : loss [4.38635838]\n",
      "Epoch 161 : loss [4.3820573]\n",
      "Epoch 162 : loss [4.37779631]\n",
      "Epoch 163 : loss [4.37357533]\n",
      "Epoch 164 : loss [4.36939413]\n",
      "Epoch 165 : loss [4.36525238]\n",
      "Epoch 166 : loss [4.36114965]\n",
      "Epoch 167 : loss [4.35708551]\n",
      "Epoch 168 : loss [4.35305946]\n",
      "Epoch 169 : loss [4.34907103]\n",
      "Epoch 170 : loss [4.34511969]\n",
      "Epoch 171 : loss [4.34120494]\n",
      "Epoch 172 : loss [4.33732627]\n",
      "Epoch 173 : loss [4.33348316]\n",
      "Epoch 174 : loss [4.3296751]\n",
      "Epoch 175 : loss [4.32590158]\n",
      "Epoch 176 : loss [4.32216212]\n",
      "Epoch 177 : loss [4.3184562]\n",
      "Epoch 178 : loss [4.31478334]\n",
      "Epoch 179 : loss [4.31114306]\n",
      "Epoch 180 : loss [4.30753489]\n",
      "Epoch 181 : loss [4.30395834]\n",
      "Epoch 182 : loss [4.30041296]\n",
      "Epoch 183 : loss [4.2968983]\n",
      "Epoch 184 : loss [4.29341391]\n",
      "Epoch 185 : loss [4.28995935]\n",
      "Epoch 186 : loss [4.28653417]\n",
      "Epoch 187 : loss [4.28313797]\n",
      "Epoch 188 : loss [4.27977032]\n",
      "Epoch 189 : loss [4.2764308]\n",
      "Epoch 190 : loss [4.27311901]\n",
      "Epoch 191 : loss [4.26983456]\n",
      "Epoch 192 : loss [4.26657704]\n",
      "Epoch 193 : loss [4.26334609]\n",
      "Epoch 194 : loss [4.26014131]\n",
      "Epoch 195 : loss [4.25696233]\n",
      "Epoch 196 : loss [4.2538088]\n",
      "Epoch 197 : loss [4.25068035]\n",
      "Epoch 198 : loss [4.24757662]\n",
      "Epoch 199 : loss [4.24449728]\n",
      "Epoch 200 : loss [4.25749092]\n",
      "Epoch 201 : loss [4.25398596]\n",
      "Epoch 202 : loss [4.25076826]\n",
      "Epoch 203 : loss [4.24747049]\n",
      "Epoch 204 : loss [4.24413806]\n",
      "Epoch 205 : loss [4.24079635]\n",
      "Epoch 206 : loss [4.23746]\n",
      "Epoch 207 : loss [4.2341375]\n",
      "Epoch 208 : loss [4.23083378]\n",
      "Epoch 209 : loss [4.22755168]\n",
      "Epoch 210 : loss [4.22429284]\n",
      "Epoch 211 : loss [4.22105814]\n",
      "Epoch 212 : loss [4.21784806]\n",
      "Epoch 213 : loss [4.21466278]\n",
      "Epoch 214 : loss [4.21150232]\n",
      "Epoch 215 : loss [4.20836657]\n",
      "Epoch 216 : loss [4.20525538]\n",
      "Epoch 217 : loss [4.20216852]\n",
      "Epoch 218 : loss [4.19910576]\n",
      "Epoch 219 : loss [4.19606682]\n",
      "Epoch 220 : loss [4.19305141]\n",
      "Epoch 221 : loss [4.19005924]\n",
      "Epoch 222 : loss [4.18709001]\n",
      "Epoch 223 : loss [4.1841434]\n",
      "Epoch 224 : loss [4.18121912]\n",
      "Epoch 225 : loss [4.17831686]\n",
      "Epoch 226 : loss [4.1754363]\n",
      "Epoch 227 : loss [4.17257715]\n",
      "Epoch 228 : loss [4.1697391]\n",
      "Epoch 229 : loss [4.16692185]\n",
      "Epoch 230 : loss [4.16412511]\n",
      "Epoch 231 : loss [4.16134859]\n",
      "Epoch 232 : loss [4.15859199]\n",
      "Epoch 233 : loss [4.15585504]\n",
      "Epoch 234 : loss [4.15313745]\n",
      "Epoch 235 : loss [4.15043894]\n",
      "Epoch 236 : loss [4.14775925]\n",
      "Epoch 237 : loss [4.14509811]\n",
      "Epoch 238 : loss [4.14245526]\n",
      "Epoch 239 : loss [4.13983043]\n",
      "Epoch 240 : loss [4.13722338]\n",
      "Epoch 241 : loss [4.13463385]\n",
      "Epoch 242 : loss [4.13206159]\n",
      "Epoch 243 : loss [4.12950637]\n",
      "Epoch 244 : loss [4.12696794]\n",
      "Epoch 245 : loss [4.12444608]\n",
      "Epoch 246 : loss [4.12194055]\n",
      "Epoch 247 : loss [4.11945113]\n",
      "Epoch 248 : loss [4.11697759]\n",
      "Epoch 249 : loss [4.11451972]\n",
      "Epoch 250 : loss [4.12873844]\n",
      "Epoch 251 : loss [4.1260658]\n",
      "Epoch 252 : loss [4.1235999]\n",
      "Epoch 253 : loss [4.12100605]\n",
      "Epoch 254 : loss [4.11834964]\n",
      "Epoch 255 : loss [4.11566587]\n",
      "Epoch 256 : loss [4.11297385]\n",
      "Epoch 257 : loss [4.11028409]\n",
      "Epoch 258 : loss [4.10760244]\n",
      "Epoch 259 : loss [4.10493223]\n",
      "Epoch 260 : loss [4.1022754]\n",
      "Epoch 261 : loss [4.09963308]\n",
      "Epoch 262 : loss [4.09700592]\n",
      "Epoch 263 : loss [4.0943943]\n",
      "Epoch 264 : loss [4.0917984]\n",
      "Epoch 265 : loss [4.0892183]\n",
      "Epoch 266 : loss [4.08665397]\n",
      "Epoch 267 : loss [4.08410535]\n",
      "Epoch 268 : loss [4.08157233]\n",
      "Epoch 269 : loss [4.07905479]\n",
      "Epoch 270 : loss [4.07655256]\n",
      "Epoch 271 : loss [4.07406548]\n",
      "Epoch 272 : loss [4.07159337]\n",
      "Epoch 273 : loss [4.06913606]\n",
      "Epoch 274 : loss [4.06669335]\n",
      "Epoch 275 : loss [4.06426505]\n",
      "Epoch 276 : loss [4.06185098]\n",
      "Epoch 277 : loss [4.05945095]\n",
      "Epoch 278 : loss [4.05706475]\n",
      "Epoch 279 : loss [4.05469221]\n",
      "Epoch 280 : loss [4.05233314]\n",
      "Epoch 281 : loss [4.04998734]\n",
      "Epoch 282 : loss [4.04765465]\n",
      "Epoch 283 : loss [4.04533487]\n",
      "Epoch 284 : loss [4.04302782]\n",
      "Epoch 285 : loss [4.04073334]\n",
      "Epoch 286 : loss [4.03845125]\n",
      "Epoch 287 : loss [4.03618137]\n",
      "Epoch 288 : loss [4.03392355]\n",
      "Epoch 289 : loss [4.0316776]\n",
      "Epoch 290 : loss [4.02944338]\n",
      "Epoch 291 : loss [4.02722071]\n",
      "Epoch 292 : loss [4.02500945]\n",
      "Epoch 293 : loss [4.02280943]\n",
      "Epoch 294 : loss [4.02062051]\n",
      "Epoch 295 : loss [4.01844254]\n",
      "Epoch 296 : loss [4.01627536]\n",
      "Epoch 297 : loss [4.01411884]\n",
      "Epoch 298 : loss [4.01197283]\n",
      "Epoch 299 : loss [4.0098372]\n",
      "Epoch 300 : loss [4.0249762]\n",
      "Epoch 301 : loss [4.02291157]\n",
      "Epoch 302 : loss [4.0208801]\n",
      "Epoch 303 : loss [4.018664]\n",
      "Epoch 304 : loss [4.01635817]\n",
      "Epoch 305 : loss [4.01401024]\n",
      "Epoch 306 : loss [4.01164424]\n",
      "Epoch 307 : loss [4.00927265]\n",
      "Epoch 308 : loss [4.00690222]\n",
      "Epoch 309 : loss [4.00453675]\n",
      "Epoch 310 : loss [4.00217848]\n",
      "Epoch 311 : loss [3.99982876]\n",
      "Epoch 312 : loss [3.99748845]\n",
      "Epoch 313 : loss [3.99515805]\n",
      "Epoch 314 : loss [3.99283791]\n",
      "Epoch 315 : loss [3.99052819]\n",
      "Epoch 316 : loss [3.988229]\n",
      "Epoch 317 : loss [3.98594035]\n",
      "Epoch 318 : loss [3.98366223]\n",
      "Epoch 319 : loss [3.98139459]\n",
      "Epoch 320 : loss [3.97913735]\n",
      "Epoch 321 : loss [3.97689042]\n",
      "Epoch 322 : loss [3.9746537]\n",
      "Epoch 323 : loss [3.97242707]\n",
      "Epoch 324 : loss [3.97021043]\n",
      "Epoch 325 : loss [3.96800365]\n",
      "Epoch 326 : loss [3.9658066]\n",
      "Epoch 327 : loss [3.96361918]\n",
      "Epoch 328 : loss [3.96144125]\n",
      "Epoch 329 : loss [3.95927268]\n",
      "Epoch 330 : loss [3.95711337]\n",
      "Epoch 331 : loss [3.95496318]\n",
      "Epoch 332 : loss [3.95282199]\n",
      "Epoch 333 : loss [3.95068969]\n",
      "Epoch 334 : loss [3.94856615]\n",
      "Epoch 335 : loss [3.94645127]\n",
      "Epoch 336 : loss [3.94434492]\n",
      "Epoch 337 : loss [3.94224699]\n",
      "Epoch 338 : loss [3.94015738]\n",
      "Epoch 339 : loss [3.93807597]\n",
      "Epoch 340 : loss [3.93600266]\n",
      "Epoch 341 : loss [3.93393733]\n",
      "Epoch 342 : loss [3.9318799]\n",
      "Epoch 343 : loss [3.92983025]\n",
      "Epoch 344 : loss [3.92778828]\n",
      "Epoch 345 : loss [3.9257539]\n",
      "Epoch 346 : loss [3.92372702]\n",
      "Epoch 347 : loss [3.92170753]\n",
      "Epoch 348 : loss [3.91969534]\n",
      "Epoch 349 : loss [3.91769036]\n",
      "Epoch 350 : loss [3.93347483]\n",
      "Epoch 351 : loss [3.93193618]\n",
      "Epoch 352 : loss [3.93014075]\n",
      "Epoch 353 : loss [3.92809489]\n",
      "Epoch 354 : loss [3.92593265]\n",
      "Epoch 355 : loss [3.92371553]\n",
      "Epoch 356 : loss [3.92147248]\n",
      "Epoch 357 : loss [3.91921794]\n",
      "Epoch 358 : loss [3.91695961]\n",
      "Epoch 359 : loss [3.91470187]\n",
      "Epoch 360 : loss [3.91244735]\n",
      "Epoch 361 : loss [3.9101977]\n",
      "Epoch 362 : loss [3.90795396]\n",
      "Epoch 363 : loss [3.90571682]\n",
      "Epoch 364 : loss [3.90348671]\n",
      "Epoch 365 : loss [3.90126391]\n",
      "Epoch 366 : loss [3.89904856]\n",
      "Epoch 367 : loss [3.89684077]\n",
      "Epoch 368 : loss [3.89464057]\n",
      "Epoch 369 : loss [3.89244795]\n",
      "Epoch 370 : loss [3.89026288]\n",
      "Epoch 371 : loss [3.88808533]\n",
      "Epoch 372 : loss [3.88591522]\n",
      "Epoch 373 : loss [3.88375251]\n",
      "Epoch 374 : loss [3.8815971]\n",
      "Epoch 375 : loss [3.87944893]\n",
      "Epoch 376 : loss [3.87730791]\n",
      "Epoch 377 : loss [3.87517396]\n",
      "Epoch 378 : loss [3.873047]\n",
      "Epoch 379 : loss [3.87092694]\n",
      "Epoch 380 : loss [3.86881371]\n",
      "Epoch 381 : loss [3.86670721]\n",
      "Epoch 382 : loss [3.86460737]\n",
      "Epoch 383 : loss [3.8625141]\n",
      "Epoch 384 : loss [3.86042732]\n",
      "Epoch 385 : loss [3.85834696]\n",
      "Epoch 386 : loss [3.85627294]\n",
      "Epoch 387 : loss [3.85420517]\n",
      "Epoch 388 : loss [3.85214358]\n",
      "Epoch 389 : loss [3.85008811]\n",
      "Epoch 390 : loss [3.84803867]\n",
      "Epoch 391 : loss [3.84599519]\n",
      "Epoch 392 : loss [3.84395761]\n",
      "Epoch 393 : loss [3.84192585]\n",
      "Epoch 394 : loss [3.83989985]\n",
      "Epoch 395 : loss [3.83787954]\n",
      "Epoch 396 : loss [3.83586486]\n",
      "Epoch 397 : loss [3.83385574]\n",
      "Epoch 398 : loss [3.83185212]\n",
      "Epoch 399 : loss [3.82985394]\n"
     ]
    },
    {
     "data": {
      "image/png": "[encoded data removed]",
      "text/plain": [
       "<Figure size 640x480 with 1 Axes>"
      ]
     },
     "metadata": {},
     "output_type": "display_data"
    }
   ],
   "source": [
    "# Assuming input_size, x, y, weights_ih, weights_ho, bias_ih, bias_ho, and sigmoid function are defined somewhere\n",
    "\n",
    "LEARNING_RATE = 1\n",
    "NUM_EPOCHS = 400\n",
    "BATCH_SIZE = 8  # Set your desired batch size\n",
    "cost = []\n",
    "initial_lr = LEARNING_RATE\n",
    "lr_schedule = lambda epoch: initial_lr * 1.15 ** (epoch // 50)\n",
    "\n",
    "for epoch in range(NUM_EPOCHS):\n",
    "    tot_loss = 0\n",
    "    \n",
    "    current_lr = lr_schedule(epoch)\n",
    "\n",
    "    for batch_start in range(0, len(x_train), BATCH_SIZE):\n",
    "        batch_end = batch_start + BATCH_SIZE\n",
    "        x_batch = x_train[batch_start:batch_end]\n",
    "        y_batch = y_train[batch_start:batch_end]\n",
    "\n",
    "        batch_gradients_ih = np.zeros_like(weights_ih)\n",
    "        batch_gradients_ho = np.zeros_like(weights_ho)\n",
    "        batch_bias_ih = np.zeros_like(bias_ih)\n",
    "        batch_bias_ho = np.zeros_like(bias_ho)\n",
    "\n",
    "        for i, s in enumerate(x_batch):\n",
    "            inp = np.reshape(np.array([int(char) for char in s]), (1, input_size))\n",
    "\n",
    "            hlayer_logits = np.dot(inp, weights_ih) + bias_ih\n",
    "            hlayer_output = sigmoid(hlayer_logits)\n",
    "\n",
    "            final_logits = np.dot(hlayer_output, weights_ho) + bias_ho\n",
    "            final_output = sigmoid(final_logits)\n",
    "\n",
    "            tot_loss += abs(final_output[0] - y_batch[i])\n",
    "\n",
    "            output_delta = (y_batch[i] - final_output[0]) * final_output * (1 - final_output[0])\n",
    "            batch_bias_ho += output_delta\n",
    "            batch_bias_ih += (output_delta.dot(weights_ho.T) * hlayer_output * (1 - hlayer_output))\n",
    "            batch_gradients_ho += hlayer_output.T.dot(output_delta)\n",
    "            batch_gradients_ih += inp.T.dot(output_delta.dot(weights_ho.T) * hlayer_output * (1 - hlayer_output))\n",
    "\n",
    "        # Update weights and biases after the batch\n",
    "        bias_ho += current_lr * (batch_bias_ho / BATCH_SIZE)\n",
    "        bias_ih += current_lr * (batch_bias_ih / BATCH_SIZE)\n",
    "        weights_ho += current_lr * (batch_gradients_ho / BATCH_SIZE)\n",
    "        weights_ih += current_lr * (batch_gradients_ih / BATCH_SIZE)\n",
    "\n",
    "    cost.append(tot_loss)\n",
    "    print(f'Epoch {epoch} : loss {tot_loss}')\n",
    "    if epoch % 10 == 0:\n",
    "        plt.plot([pl for pl in range(epoch + 1)], cost, 'b')\n",
    "        plt.xlabel('Epochs')\n",
    "        plt.ylabel('Loss')\n",
    "        # plt.ylim(0, 5)\n",
    "        plt.xlim(0, NUM_EPOCHS)\n",
    "        plt.savefig('train.png')\n",
    "        # if tot_loss < min_loss:       # IMP: Don't save weights\n",
    "        #     np.save('weights_ih2.npy', weights_ih)\n",
    "        #     np.save('weights_ho2.npy', weights_ho)\n",
    "        #     np.save('bias_ih2', bias_ih)\n",
    "        #     np.save(\"bias_ho2\", bias_ho)\n",
    "        #     min_loss = tot_loss\n"
   ]
  },
  {
   "cell_type": "code",
   "execution_count": null,
   "metadata": {},
   "outputs": [],
   "source": []
  },
  {
   "cell_type": "markdown",
   "metadata": {},
   "source": [
    "# Testing"
   ]
  },
  {
   "cell_type": "code",
   "execution_count": 13,
   "metadata": {},
   "outputs": [
    {
     "name": "stdout",
     "output_type": "stream",
     "text": [
      "[[-34.83718039]] [[1.72387281 1.64764366]]\n"
     ]
    }
   ],
   "source": [
    "print(bias_ho, bias_ih)"
   ]
  },
  {
   "cell_type": "code",
   "execution_count": 54,
   "metadata": {},
   "outputs": [
    {
     "name": "stdout",
     "output_type": "stream",
     "text": [
      "[[0.94845638]]\n",
      "[[1.47932704e-06]]\n"
     ]
    }
   ],
   "source": [
    "x_test1 = '1100110011'\n",
    "x_test2 = '1000011111'\n",
    "def test(x):\n",
    "    inp = np.reshape(np.array([int(char) for char in x]), (1, input_size))\n",
    "    # print('-'*25, '\\nInput: \\n', inp)\n",
    "    # print('\\nLogit 1: \\n', np.dot(inp, weights_ih)+ bias_ih)\n",
    "    # print('\\nHidden layer 1 Output: \\n', sigmoid(np.dot(inp, weights_ih)+ bias_ih))\n",
    "    # print('\\nLogit 2: \\n', np.dot(sigmoid(np.dot(inp, weights_ih)+ bias_ih), weights_ho)+bias_ho)\n",
    "    # print('\\nHidded layer 2 Output: \\n', sigmoid(np.dot(sigmoid(np.dot(inp, weights_ih)+ bias_ih), weights_ho)+bias_ho))\n",
    "    return sigmoid(np.dot(sigmoid(np.dot(inp, weights_ih)+ bias_ih), weights_ho)+bias_ho)\n",
    "\n",
    "print(test(x_test1))\n",
    "print(test(x_test2))"
   ]
  },
  {
   "cell_type": "code",
   "execution_count": 79,
   "metadata": {},
   "outputs": [
    {
     "data": {
      "text/plain": [
       "array([[-17.64594695,  16.68800271],\n",
       "       [-15.69229875,  14.81632302],\n",
       "       [  3.964544  ,  -3.67123949],\n",
       "       [-31.39194755,  29.5707436 ],\n",
       "       [ -7.78306791,   7.33169092],\n",
       "       [  7.86062307,  -7.32610376],\n",
       "       [ 31.38579668, -29.51716949],\n",
       "       [ -3.90823731,   3.76896783],\n",
       "       [ 15.77730986, -14.77601564],\n",
       "       [ 17.7263237 , -16.58351273]])"
      ]
     },
     "execution_count": 79,
     "metadata": {},
     "output_type": "execute_result"
    }
   ],
   "source": [
    "# np.save('weights_ih2.npy', weights_ih)\n",
    "# np.save('weights_ho.npy', weights_ho)\n",
    "# np.save('bias_ih2', bias_ih)\n",
    "# np.save(\"bias_ho\", bias_ho)\n",
    "# weights_ih = np.load('weights_ih2.npy')\n",
    "# weights_ho = np.load('weights_ho2.npy')\n",
    "# bias_ih = np.load('bias_ih2.npy')\n",
    "# bias_ho = np.load('bias_ho2.npy')\n",
    "weights_ih[:, [1, 3]]"
   ]
  },
  {
   "cell_type": "markdown",
   "metadata": {},
   "source": [
    "## New Testing"
   ]
  },
  {
   "cell_type": "code",
   "execution_count": 56,
   "metadata": {},
   "outputs": [
    {
     "name": "stdout",
     "output_type": "stream",
     "text": [
      "1001001110  - predicted:  1  with prob:  [[0.71644234]]\n",
      "0011000010  - predicted:  1  with prob:  [[0.99765024]]\n",
      "0011110010  - predicted:  1  with prob:  [[0.9948343]]\n",
      "1000000110  - predicted:  1  with prob:  [[0.66793268]]\n",
      "0001100010  - predicted:  1  with prob:  [[0.89581724]]\n",
      "Accuracy:  0.9789029535864979\n"
     ]
    }
   ],
   "source": [
    "count=0\n",
    "for i in range(len(x_test)):\n",
    "    y_p = 1 if test(x_test[i])>0.5 else 0\n",
    "    if y_test[i]!=y_p:\n",
    "        count+=1\n",
    "        print(x_test[i], ' - predicted: ', y_p, ' with prob: ', test(x_test[i]))\n",
    "print('Accuracy: ', (len(x_test) - count)/len(x_test))"
   ]
  },
  {
   "cell_type": "code",
   "execution_count": null,
   "metadata": {},
   "outputs": [],
   "source": []
  },
  {
   "cell_type": "markdown",
   "metadata": {},
   "source": [
    "## K-Fold Cross Validation"
   ]
  },
  {
   "cell_type": "code",
   "execution_count": 17,
   "metadata": {},
   "outputs": [],
   "source": [
    "def sigmoid(x):\n",
    "    return 1 / (1 + np.exp(-1 * x))\n",
    "\n",
    "def relu(x):\n",
    "    return np.maximum(0, x)"
   ]
  },
  {
   "cell_type": "code",
   "execution_count": 18,
   "metadata": {},
   "outputs": [],
   "source": [
    "x = []\n",
    "palindromes = []\n",
    "for i in range(1024):\n",
    "    binary_string = format(i, '010b')\n",
    "    x.append(binary_string)\n",
    "    if binary_string == binary_string[::-1]:\n",
    "        palindromes.append(binary_string)\n",
    "x = np.array(x)\n",
    "palindromes = np.array(palindromes)\n",
    "\n",
    "y = []\n",
    "for binary_string in x:\n",
    "    y.append(binary_string == binary_string[::-1])\n",
    "y = np.array(y)\n",
    "permutation_index = np.random.permutation(len(x))\n",
    "x = x[permutation_index]\n",
    "y = y[permutation_index]"
   ]
  },
  {
   "cell_type": "code",
   "execution_count": 19,
   "metadata": {},
   "outputs": [],
   "source": [
    "np.random.seed(28)\n",
    "LEARNING_RATE = 0.1\n",
    "NUM_EPOCHS = 10000\n",
    "\n",
    "input_size = 10\n",
    "hidden_layer_size = 2\n",
    "output_size = 1\n",
    "global weights_ih\n",
    "\n",
    "# weights_ih = np.random.rand(input_size, hidden_layer_size)\n",
    "weights_ih = np.load('weights/weights_ih2.npy')\n",
    "weights_ho = np.random.rand(hidden_layer_size, output_size)\n",
    "# bias_ih = np.random.rand(1, hidden_layer_size)\n",
    "bias_ih = np.load('weights/bias_ih2.npy')\n",
    "bias_ho = np.random.rand(1, output_size)"
   ]
  },
  {
   "cell_type": "code",
   "execution_count": 20,
   "metadata": {},
   "outputs": [],
   "source": [
    "def accuracy_metric(predicted, target):\n",
    "    if len(target)!=len(predicted):\n",
    "        raise ValueError(\"Both predicted and target vectors should be same size!\")\n",
    "\n",
    "    correct = 0\n",
    "    for i in range(len(target)):\n",
    "        if target[i] == predicted[i]:\n",
    "            correct += 1\n",
    "    return correct / float(len(target)) * 100.0"
   ]
  },
  {
   "cell_type": "code",
   "execution_count": 21,
   "metadata": {},
   "outputs": [],
   "source": [
    "def train(x_train,y_train, x_val, y_val, lr=1, epochs=1000, batch_size=4):\n",
    "    global weights_ih, weights_ho, bias_ih, bias_ho\n",
    "    LEARNING_RATE = lr\n",
    "    NUM_EPOCHS = epochs\n",
    "    BATCH_SIZE = batch_size  # Set your desired batch size\n",
    "    cost = []\n",
    "    cost_val = []\n",
    "    initial_lr = LEARNING_RATE\n",
    "    lr_schedule = lambda epoch: initial_lr * 0.95 ** (epoch // 50)\n",
    "\n",
    "    for epoch in range(NUM_EPOCHS):\n",
    "        tot_loss = 0\n",
    "        tot_loss_valid = 0\n",
    "        current_lr = lr_schedule(epoch)\n",
    "\n",
    "        for batch_start in range(0, len(x_train), BATCH_SIZE):\n",
    "            batch_end = batch_start + BATCH_SIZE\n",
    "            x_batch = x_train[batch_start:batch_end]\n",
    "            y_batch = y_train[batch_start:batch_end]\n",
    "\n",
    "            batch_gradients_ih = np.zeros_like(weights_ih)\n",
    "            batch_gradients_ho = np.zeros_like(weights_ho)\n",
    "            batch_bias_ih = np.zeros_like(bias_ih)\n",
    "            batch_bias_ho = np.zeros_like(bias_ho)\n",
    "\n",
    "            for i, s in enumerate(x_batch):\n",
    "                inp = np.reshape(np.array([int(char) for char in s]), (1, input_size))\n",
    "\n",
    "                hlayer_logits = np.dot(inp, weights_ih) + bias_ih\n",
    "                hlayer_output = sigmoid(hlayer_logits)\n",
    "\n",
    "                final_logits = np.dot(hlayer_output, weights_ho) + bias_ho\n",
    "                final_output = sigmoid(final_logits)\n",
    "\n",
    "                tot_loss += abs(final_output[0] - y_batch[i])\n",
    "\n",
    "                output_delta = (y_batch[i] - final_output[0]) * final_output * (1 - final_output[0])\n",
    "                batch_bias_ho += output_delta\n",
    "                batch_bias_ih += (output_delta.dot(weights_ho.T) * hlayer_output * (1 - hlayer_output))\n",
    "                batch_gradients_ho += hlayer_output.T.dot(output_delta)\n",
    "                batch_gradients_ih += inp.T.dot(output_delta.dot(weights_ho.T) * hlayer_output * (1 - hlayer_output))\n",
    "\n",
    "            # Update weights and biases after the batch\n",
    "            bias_ho += current_lr * (batch_bias_ho / BATCH_SIZE)\n",
    "            bias_ih += current_lr * (batch_bias_ih / BATCH_SIZE)\n",
    "            weights_ho += current_lr * (batch_gradients_ho / BATCH_SIZE)\n",
    "            weights_ih += current_lr * (batch_gradients_ih / BATCH_SIZE)\n",
    "        \n",
    "        cost.append(tot_loss)\n",
    "        # print(f'Epoch {epoch} : loss {tot_loss}')\n",
    "        for i, s in enumerate(x_val):\n",
    "                inp = np.reshape(np.array([int(char) for char in s]), (1, input_size))\n",
    "\n",
    "                hlayer_logits = np.dot(inp, weights_ih) + bias_ih\n",
    "                hlayer_output = sigmoid(hlayer_logits)\n",
    "\n",
    "                final_logits = np.dot(hlayer_output, weights_ho) + bias_ho\n",
    "                final_output = sigmoid(final_logits)\n",
    "\n",
    "                tot_loss_valid += abs(final_output[0] - y_val[i])\n",
    "    cost_val.append(tot_loss_valid)\n",
    "    print(\"Done!\")\n",
    "    return cost, cost_val"
   ]
  },
  {
   "cell_type": "code",
   "execution_count": 22,
   "metadata": {},
   "outputs": [],
   "source": [
    "def k_fold_cross_validation(X:np.ndarray, y:np.ndarray, k_folds:int = 4, epochs_per_fold:int = 250):\n",
    "        fold_size = len(X) // k_folds\n",
    "        losses = []\n",
    "        losses_val = []\n",
    "        for i in range(k_folds):\n",
    "            start, end = i * fold_size, (i + 1) * fold_size\n",
    "            X_test_fold, y_test_fold = X[start:end], y[start:end]\n",
    "            X_train_fold = np.concatenate([X[:start], X[end:]])\n",
    "            y_train_fold = np.concatenate([y[:start], y[end:]])\n",
    "            print(f\"Training Fold {i+1}\\n\")\n",
    "            loss_train, loss_val = train(X_train_fold, y_train_fold, X_test_fold, y_test_fold, epochs=epochs_per_fold)\n",
    "            losses.extend(loss_train)\n",
    "            losses_val.extend(loss_val)\n",
    "            print(\"\\n\"+10*\"----\"+\"\\n\")\n",
    "\n",
    "        return losses, losses_val"
   ]
  },
  {
   "cell_type": "code",
   "execution_count": 23,
   "metadata": {},
   "outputs": [
    {
     "name": "stdout",
     "output_type": "stream",
     "text": [
      "Training Fold 1\n",
      "\n",
      "Done!\n",
      "\n",
      "----------------------------------------\n",
      "\n",
      "Training Fold 2\n",
      "\n",
      "Done!\n",
      "\n",
      "----------------------------------------\n",
      "\n",
      "Training Fold 3\n",
      "\n",
      "Done!\n",
      "\n",
      "----------------------------------------\n",
      "\n",
      "Training Fold 4\n",
      "\n",
      "Done!\n",
      "\n",
      "----------------------------------------\n",
      "\n",
      "Training Fold 5\n",
      "\n",
      "Done!\n",
      "\n",
      "----------------------------------------\n",
      "\n",
      "Training Fold 6\n",
      "\n",
      "Done!\n",
      "\n",
      "----------------------------------------\n",
      "\n",
      "Training Fold 7\n",
      "\n",
      "Done!\n",
      "\n",
      "----------------------------------------\n",
      "\n",
      "Training Fold 8\n",
      "\n",
      "Done!\n",
      "\n",
      "----------------------------------------\n",
      "\n",
      "Training Fold 9\n",
      "\n",
      "Done!\n",
      "\n",
      "----------------------------------------\n",
      "\n",
      "Training Fold 10\n",
      "\n",
      "Done!\n",
      "\n",
      "----------------------------------------\n",
      "\n"
     ]
    }
   ],
   "source": [
    "losses, loss_val = k_fold_cross_validation(x, y, epochs_per_fold = 100)"
   ]
  },
  {
   "cell_type": "code",
   "execution_count": 24,
   "metadata": {},
   "outputs": [
    {
     "data": {
      "image/png": "[encoded data removed]",
      "text/plain": [
       "<Figure size 640x480 with 1 Axes>"
      ]
     },
     "metadata": {},
     "output_type": "display_data"
    }
   ],
   "source": [
    "plt.plot( np.arange(0, len(losses)),losses)\n",
    "plt.xlabel('Epochs')\n",
    "plt.ylabel('Loss')\n",
    "plt.show()"
   ]
  },
  {
   "cell_type": "code",
   "execution_count": 25,
   "metadata": {},
   "outputs": [
    {
     "data": {
      "image/png": "[encoded data removed]",
      "text/plain": [
       "<Figure size 640x480 with 1 Axes>"
      ]
     },
     "metadata": {},
     "output_type": "display_data"
    }
   ],
   "source": [
    "plt.plot( np.arange(0, len(loss_val)),loss_val)\n",
    "plt.xlabel('Epochs')\n",
    "plt.ylabel('Loss')\n",
    "plt.show()"
   ]
  },
  {
   "cell_type": "code",
   "execution_count": 26,
   "metadata": {},
   "outputs": [],
   "source": [
    "def predict(x):\n",
    "    inp = np.reshape(np.array([int(char) for char in x]), (1, input_size))\n",
    "    return sigmoid(np.dot(sigmoid(np.dot(inp, weights_ih)+ bias_ih), weights_ho)+bias_ho)"
   ]
  },
  {
   "cell_type": "code",
   "execution_count": 27,
   "metadata": {},
   "outputs": [
    {
     "name": "stdout",
     "output_type": "stream",
     "text": [
      "Accuracy:  1.0\n"
     ]
    }
   ],
   "source": [
    "count=0\n",
    "for i in range(len(x)):\n",
    "    y_p = 1 if predict(x[i])>0.5 else 0\n",
    "    if y[i]!=y_p:\n",
    "        count+=1\n",
    "        print(x[i], ' - predicted: ', y_p)\n",
    "print('Accuracy: ', (len(x) - count)/len(x))"
   ]
  },
  {
   "cell_type": "code",
   "execution_count": null,
   "metadata": {},
   "outputs": [],
   "source": []
  }
 ],
 "metadata": {
  "kernelspec": {
   "display_name": "tensorflow",
   "language": "python",
   "name": "python3"
  },
  "language_info": {
   "codemirror_mode": {
    "name": "ipython",
    "version": 3
   },
   "file_extension": ".py",
   "mimetype": "text/x-python",
   "name": "python",
   "nbconvert_exporter": "python",
   "pygments_lexer": "ipython3",
   "version": "3.10.9"
  }
 },
 "nbformat": 4,
 "nbformat_minor": 4
}
