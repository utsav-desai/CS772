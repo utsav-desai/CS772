{
 "cells": [
  {
   "cell_type": "code",
   "execution_count": 4,
   "metadata": {},
   "outputs": [],
   "source": [
    "import numpy as np\n",
    "import pandas as pd\n",
    "import matplotlib.pyplot as plt\n",
    "from faker import Faker\n",
    "import random"
   ]
  },
  {
   "cell_type": "code",
   "execution_count": 51,
   "metadata": {},
   "outputs": [
    {
     "name": "stdout",
     "output_type": "stream",
     "text": [
      "Total Palindromes in the data:  516\n",
      "Total non Palindromes in the data:  508\n"
     ]
    }
   ],
   "source": [
    "fake = Faker()\n",
    "\n",
    "def generate_binary_string(length):\n",
    "    return ''.join(random.choice('01') for _ in range(length))\n",
    "\n",
    "data_size = 524\n",
    "input_data = [generate_binary_string(10) for _ in range(data_size)]\n",
    "labels = [int(row == row[::-1]) for row in input_data]\n",
    "\n",
    "\n",
    "def generate_palindromes(length, count):\n",
    "    palindromes = []\n",
    "    for _ in range(count):\n",
    "        palindrome = ''.join(random.choice('01') for _ in range(length // 2))\n",
    "        palindrome += palindrome[::-1]\n",
    "        palindromes.append(palindrome)\n",
    "    return palindromes\n",
    "\n",
    "palindromes_10_bit = generate_palindromes(length=10, count=500)\n",
    "\n",
    "input_data += palindromes_10_bit\n",
    "random.shuffle(input_data)\n",
    "labels = [int(row == row[::-1]) for row in input_data]\n",
    "\n",
    "print('Total Palindromes in the data: ', sum(labels))\n",
    "print('Total non Palindromes in the data: ', 1024 - sum(labels))\n"
   ]
  },
  {
   "cell_type": "code",
   "execution_count": null,
   "metadata": {},
   "outputs": [],
   "source": []
  },
  {
   "cell_type": "code",
   "execution_count": null,
   "metadata": {},
   "outputs": [],
   "source": []
  }
 ],
 "metadata": {
  "kernelspec": {
   "display_name": "cs772",
   "language": "python",
   "name": "cs772"
  },
  "language_info": {
   "codemirror_mode": {
    "name": "ipython",
    "version": 3
   },
   "file_extension": ".py",
   "mimetype": "text/x-python",
   "name": "python",
   "nbconvert_exporter": "python",
   "pygments_lexer": "ipython3",
   "version": "3.10.9"
  }
 },
 "nbformat": 4,
 "nbformat_minor": 2
}
