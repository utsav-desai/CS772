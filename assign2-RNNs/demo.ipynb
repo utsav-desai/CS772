{
 "cells": [
  {
   "cell_type": "markdown",
   "metadata": {},
   "source": [
    "## Import Libs"
   ]
  },
  {
   "cell_type": "code",
   "execution_count": 1,
   "metadata": {},
   "outputs": [],
   "source": [
    "import os\n",
    "import numpy as np\n",
    "\n",
    "from model import *\n",
    "from activation import *\n",
    "from utils import *"
   ]
  },
  {
   "cell_type": "markdown",
   "metadata": {},
   "source": [
    "## Load Data"
   ]
  },
  {
   "cell_type": "code",
   "execution_count": 2,
   "metadata": {},
   "outputs": [],
   "source": [
    "train_path = os.path.join(\"data\", \"train.jsonl\")\n",
    "test_path = os.path.join(\"data\",\"test.jsonl\")"
   ]
  },
  {
   "cell_type": "code",
   "execution_count": 3,
   "metadata": {},
   "outputs": [],
   "source": [
    "X_train, X_test, y_train, y_test= fetch_data(train_path, test_path)"
   ]
  },
  {
   "cell_type": "markdown",
   "metadata": {},
   "source": [
    "## Data Preprocessing"
   ]
  },
  {
   "cell_type": "code",
   "execution_count": 4,
   "metadata": {},
   "outputs": [
    {
     "data": {
      "text/plain": [
       "array([1, 1, 1, 0, 1, 1, 1, 0, 1])"
      ]
     },
     "execution_count": 4,
     "metadata": {},
     "output_type": "execute_result"
    }
   ],
   "source": [
    "y_train[0]"
   ]
  },
  {
   "cell_type": "code",
   "execution_count": 5,
   "metadata": {},
   "outputs": [
    {
     "name": "stdout",
     "output_type": "stream",
     "text": [
      "[1, 4, 3, 1, 4, 4, 3, 1, 4]\n"
     ]
    },
    {
     "data": {
      "text/plain": [
       "array([[1., 0., 0., 0.],\n",
       "       [0., 0., 0., 1.],\n",
       "       [0., 0., 1., 0.],\n",
       "       [1., 0., 0., 0.],\n",
       "       [0., 0., 0., 1.],\n",
       "       [0., 0., 0., 1.],\n",
       "       [0., 0., 1., 0.],\n",
       "       [1., 0., 0., 0.],\n",
       "       [0., 0., 0., 1.]])"
      ]
     },
     "execution_count": 5,
     "metadata": {},
     "output_type": "execute_result"
    }
   ],
   "source": [
    "print(X_train[0])\n",
    "one_hot_encode(X_train[0])"
   ]
  },
  {
   "cell_type": "code",
   "execution_count": 6,
   "metadata": {},
   "outputs": [],
   "source": [
    "X_train_ho = into_ho(X_train)\n",
    "X_test_ho = into_ho(X_test)"
   ]
  },
  {
   "cell_type": "code",
   "execution_count": 7,
   "metadata": {},
   "outputs": [
    {
     "name": "stdout",
     "output_type": "stream",
     "text": [
      "Train Size: 14041\n",
      "Test Size: 3453\n"
     ]
    }
   ],
   "source": [
    "print(\"Train Size:\",len(X_train_ho))\n",
    "print(\"Test Size:\", len(X_test_ho))"
   ]
  },
  {
   "cell_type": "markdown",
   "metadata": {},
   "source": [
    "## Model Training"
   ]
  },
  {
   "cell_type": "code",
   "execution_count": 8,
   "metadata": {},
   "outputs": [],
   "source": [
    "model = SingleRecurrentPerceptron(lr=0.02, momentum=0.7)"
   ]
  },
  {
   "cell_type": "code",
   "execution_count": 9,
   "metadata": {},
   "outputs": [
    {
     "name": "stdout",
     "output_type": "stream",
     "text": [
      "epoch: 1, training loss : 263.95, training accuracy: 49.80%, validation loss: 263.94, validation accuracy: 49.82%\n",
      "epoch: 2, training loss : 253.51, training accuracy: 48.15%, validation loss: 253.50, validation accuracy: 48.17%\n",
      "epoch: 3, training loss : 242.29, training accuracy: 52.40%, validation loss: 242.29, validation accuracy: 52.35%\n",
      "epoch: 4, training loss : 232.09, training accuracy: 59.13%, validation loss: 232.09, validation accuracy: 59.13%\n",
      "epoch: 5, training loss : 223.22, training accuracy: 61.71%, validation loss: 223.22, validation accuracy: 61.70%\n",
      "epoch: 6, training loss : 215.61, training accuracy: 62.62%, validation loss: 215.61, validation accuracy: 62.62%\n",
      "epoch: 7, training loss : 209.11, training accuracy: 62.62%, validation loss: 209.11, validation accuracy: 62.62%\n",
      "epoch: 8, training loss : 203.52, training accuracy: 62.62%, validation loss: 203.52, validation accuracy: 62.62%\n",
      "epoch: 9, training loss : 198.70, training accuracy: 62.62%, validation loss: 198.70, validation accuracy: 62.62%\n",
      "epoch: 10, training loss : 194.52, training accuracy: 63.38%, validation loss: 194.52, validation accuracy: 63.43%\n",
      "epoch: 11, training loss : 190.87, training accuracy: 65.05%, validation loss: 190.87, validation accuracy: 65.06%\n",
      "epoch: 12, training loss : 187.68, training accuracy: 65.60%, validation loss: 187.68, validation accuracy: 65.60%\n",
      "epoch: 13, training loss : 184.87, training accuracy: 65.70%, validation loss: 184.87, validation accuracy: 65.70%\n",
      "epoch: 14, training loss : 182.39, training accuracy: 66.61%, validation loss: 182.39, validation accuracy: 66.60%\n",
      "epoch: 15, training loss : 180.21, training accuracy: 66.54%, validation loss: 180.21, validation accuracy: 66.51%\n",
      "epoch: 16, training loss : 178.28, training accuracy: 65.89%, validation loss: 178.28, validation accuracy: 65.88%\n",
      "epoch: 17, training loss : 176.58, training accuracy: 65.89%, validation loss: 176.58, validation accuracy: 65.88%\n",
      "epoch: 18, training loss : 175.08, training accuracy: 65.91%, validation loss: 175.09, validation accuracy: 65.91%\n",
      "epoch: 19, training loss : 173.78, training accuracy: 66.05%, validation loss: 173.78, validation accuracy: 66.06%\n",
      "epoch: 20, training loss : 172.65, training accuracy: 66.13%, validation loss: 172.65, validation accuracy: 66.14%\n",
      "epoch: 21, training loss : 171.67, training accuracy: 66.29%, validation loss: 171.67, validation accuracy: 66.29%\n",
      "epoch: 22, training loss : 170.85, training accuracy: 66.30%, validation loss: 170.85, validation accuracy: 66.30%\n",
      "epoch: 23, training loss : 170.17, training accuracy: 66.30%, validation loss: 170.17, validation accuracy: 66.30%\n",
      "epoch: 24, training loss : 169.62, training accuracy: 66.30%, validation loss: 169.62, validation accuracy: 66.30%\n",
      "epoch: 25, training loss : 169.21, training accuracy: 66.30%, validation loss: 169.21, validation accuracy: 66.30%\n"
     ]
    }
   ],
   "source": [
    "history = model.train(X_train_ho, y_train, epochs=25)"
   ]
  },
  {
   "cell_type": "code",
   "execution_count": 10,
   "metadata": {},
   "outputs": [],
   "source": [
    "model.zero_grad()"
   ]
  },
  {
   "cell_type": "code",
   "execution_count": 11,
   "metadata": {},
   "outputs": [],
   "source": [
    "delta_loss, delta_accuracy = model.calculate_loss(X_test_ho, y_test)"
   ]
  },
  {
   "cell_type": "code",
   "execution_count": 13,
   "metadata": {},
   "outputs": [
    {
     "name": "stdout",
     "output_type": "stream",
     "text": [
      "Test Accuracy: 0.6210068109590023\n"
     ]
    }
   ],
   "source": [
    "print(\"Test Accuracy:\", delta_accuracy)"
   ]
  },
  {
   "cell_type": "code",
   "execution_count": 15,
   "metadata": {},
   "outputs": [
    {
     "data": {
      "text/plain": [
       "3.3149068605476644"
      ]
     },
     "execution_count": 15,
     "metadata": {},
     "output_type": "execute_result"
    }
   ],
   "source": []
  },
  {
   "cell_type": "code",
   "execution_count": 16,
   "metadata": {},
   "outputs": [],
   "source": [
    "model.save(path=f\"models/recurrent_perceptron{int(history['val_accuracy'][-1]*100/5)}.pkl\")"
   ]
  },
  {
   "cell_type": "code",
   "execution_count": 17,
   "metadata": {},
   "outputs": [
    {
     "data": {
      "text/plain": [
       "array([ 1.49273762,  0.9008349 , -0.03110481,  0.88635408,  1.57181239,\n",
       "       -0.14573972,  1.82537535,  0.50062787,  1.98839203,  1.02825094])"
      ]
     },
     "execution_count": 17,
     "metadata": {},
     "output_type": "execute_result"
    }
   ],
   "source": [
    "model.weights"
   ]
  },
  {
   "cell_type": "markdown",
   "metadata": {},
   "source": [
    "## Inference"
   ]
  },
  {
   "cell_type": "code",
   "execution_count": 7,
   "metadata": {},
   "outputs": [],
   "source": [
    "model = SingleRecurrentPerceptron()\n",
    "model = model.load(\"models/recurrent_perceptron_80%.pkl\")"
   ]
  },
  {
   "cell_type": "markdown",
   "metadata": {},
   "source": [
    "## Testing Model"
   ]
  },
  {
   "cell_type": "code",
   "execution_count": 10,
   "metadata": {},
   "outputs": [],
   "source": []
  },
  {
   "cell_type": "code",
   "execution_count": null,
   "metadata": {},
   "outputs": [],
   "source": []
  }
 ],
 "metadata": {
  "kernelspec": {
   "display_name": "sem8",
   "language": "python",
   "name": "python3"
  },
  "language_info": {
   "codemirror_mode": {
    "name": "ipython",
    "version": 3
   },
   "file_extension": ".py",
   "mimetype": "text/x-python",
   "name": "python",
   "nbconvert_exporter": "python",
   "pygments_lexer": "ipython3",
   "version": "3.10.12"
  }
 },
 "nbformat": 4,
 "nbformat_minor": 2
}
